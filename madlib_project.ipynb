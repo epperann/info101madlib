{
 "cells": [
  {
   "cell_type": "markdown",
   "id": "ccf6169e-a3ca-4ac7-95d9-bc35e208aec8",
   "metadata": {
    "tags": []
   },
   "source": [
    "# Info 101 Final Project: Madlibs\n",
    "## Group AB-5: Annika Epperly and Trevor Wong\n",
    "TODO:\n",
    "\n",
    "* Create a post with instructions (DONE)\n",
    "* Create a Madlib that fit the format described in the post (DONE)\n",
    "    * Ideal: Create mulitple Madlibs (DONE?)\n",
    "* Loop through comments on the post and check for correct delimiters and number of words (DONE?)\n",
    "    * Ideal: Check for correct type (noun, adj, verb)\n",
    "* Reply to comment with filled out madlib\n",
    "    * Ideal: different madlib for each person"
   ]
  },
  {
   "cell_type": "code",
   "execution_count": 1,
   "id": "2669626e-556a-4584-b29c-5fb155bf1e6c",
   "metadata": {},
   "outputs": [
    {
     "name": "stderr",
     "output_type": "stream",
     "text": [
      "Version 7.6.1 of praw is outdated. Version 7.7.0 was released Saturday February 25, 2023.\n"
     ]
    }
   ],
   "source": [
    "## INIT ##\n",
    "\n",
    "import random\n",
    "import praw\n",
    "# %run fake_apis/fake_praw.ipynb\n",
    "\n",
    "# Where we can store madlib text\n",
    "import madlibs_src\n",
    "\n",
    "import reddit_keys\n",
    "\n",
    "# Give praw access to post\n",
    "reddit = praw.Reddit(\n",
    "    username=reddit_keys.username, password=reddit_keys.password,\n",
    "    client_id=reddit_keys.client_id, client_secret=reddit_keys.client_secret,\n",
    "    user_agent=\"custom python script\"\n",
    ")"
   ]
  },
  {
   "cell_type": "code",
   "execution_count": 2,
   "id": "a4734b86-d364-4dc8-b84d-dd5333695a9f",
   "metadata": {},
   "outputs": [],
   "source": [
    "## POST ##\n",
    "\n",
    "# Lists out possible madlib stories to be selected later\n",
    "madlib_list = [\n",
    "    [\"Recently the [INPUT] store sold out on the [INPUT] [INPUT] that could [INPUT]. \\\n",
    "So [INPUT] checked out the [INPUT] store across the street and found [INPUT] \\\n",
    "[INPUT] [INPUT] -- which was pretty cool.\",\n",
    "     \"Noun/Adjective/Noun/Verb/Name/Adjective/Number/Adjective/Noun\"],\n",
    "    \n",
    "    [\"Social media has become very [INPUT] overnight. There have been reports of \\\n",
    "users using their platforms to [INPUT] which has created various [INPUT] \\\n",
    "issues. It seems that every [INPUT] has been replaced with [INPUT] which has gained \\\n",
    "a lot of [INPUT] attention and intrigued social media users.\",\n",
    "     \"Adjective/Verb/Adjective/Noun/Noun/Adjective\"],\n",
    "    \n",
    "    [\"Many [INPUT] majors are very [INPUT], but there are some who do not fall \\\n",
    "under this classification as easily or maybe they fall under it too well. The \\\n",
    "students in the major get along very well with [INPUT] [INPUT] majors since \\\n",
    "they [INPUT] with them frequently. This defies some conceptions about the \\\n",
    "two kinds of students though since [INPUT] majors work with [INPUT] -- \\\n",
    "something that [INPUT] students do not [INPUT] well with.\",\n",
    "     \"Major1/Adjective/Adjective/Major2/Verb-with-ing/Major1/Proper-noun/Major2/Verb\"]\n",
    "              ]\n",
    "\n",
    "# Establishes the current madlib that will be used in the comment\n",
    "current_madlib = random.choice(madlib_list)\n",
    "\n",
    "# Creates initial post asking for madlibs input\n",
    "# Saves submission id\n",
    "madId = reddit.subreddit(\n",
    "   \"epperannbottestsub\"\n",
    ").submit(\n",
    "    # Greeting -- initial comment\n",
    "    \"Hello! Let's make some Madlibs!\",\n",
    "    \n",
    "    # Establishment of format and steps to submit\n",
    "    selftext = \"Reply to this post with your submission in the format:\\n\\n'\" +\n",
    "    current_madlib[1] +\n",
    "    \"'\\n\\nPlease seperate each word with '/' and leave no space between!\"\n",
    ").id\n",
    "comment_ids = []"
   ]
  },
  {
   "cell_type": "code",
   "execution_count": 8,
   "id": "757267f3-f05f-4dc3-8ed4-188fab28a3a0",
   "metadata": {},
   "outputs": [],
   "source": [
    "## COMMENT PARSING ##\n",
    "# TO-DO post the final madlib as a reply to the comment\n",
    "\n",
    "# Read through comments\n",
    "def get_comments(postId, show_hidden=False):\n",
    "    \n",
    "    submission = reddit.submission(postId)\n",
    "    submission.comment_sort = \"new\"\n",
    "    submission.comments.replace_more()\n",
    "    comments = submission.comments\n",
    "    \n",
    "    for comment in comments:\n",
    "        # Add old comment ids to list and check if each id is in list\n",
    "        # selects the new comments and creates madlibs with them\n",
    "        if comment not in comment_ids:\n",
    "            final_madlib = current_madlib[0]\n",
    "            comment_input = comment.body\n",
    "            madlib_input = comment_input.split(\"/\")\n",
    "            \n",
    "            # Ensures the length requirement is met # NEED TO REPLY STILL\n",
    "            if len(madlib_input) < len(current_madlib[1].split(\"/\")):\n",
    "                display(\"Too little words were inputted. Please comment again with the correct amount\")\n",
    "            elif len(madlib_input) > len(current_madlib[1].split(\"/\")):\n",
    "                display(\"Too many words were inputted. Please comment again with the correct amount\")\n",
    "            else:\n",
    "                ## Create a madlib using madlib_input # NEED TO REPLY STILL\n",
    "                for word in madlib_input:\n",
    "                    final_madlib = final_madlib.replace(\"[INPUT]\", word, 1)\n",
    "                display(final_madlib)\n",
    "            # comment_ids.append(comment) ## REMOVE WHEN TESTING DONE\n",
    "\n",
    "# finds all the new comments\n",
    "get_comments(madId)\n"
   ]
  }
 ],
 "metadata": {
  "kernelspec": {
   "display_name": "Python 3 (ipykernel)",
   "language": "python",
   "name": "python3"
  },
  "language_info": {
   "codemirror_mode": {
    "name": "ipython",
    "version": 3
   },
   "file_extension": ".py",
   "mimetype": "text/x-python",
   "name": "python",
   "nbconvert_exporter": "python",
   "pygments_lexer": "ipython3",
   "version": "3.9.7"
  }
 },
 "nbformat": 4,
 "nbformat_minor": 5
}
