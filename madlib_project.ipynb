{
 "cells": [
  {
   "cell_type": "markdown",
   "id": "975842a7-18d1-4a11-b8f9-607169bbdbdc",
   "metadata": {
    "tags": []
   },
   "source": [
    "# Info 101 Final Project: Madlibs\n",
    "\n",
    "### Group AB-5: Annika Epperly and Trevor Wong"
   ]
  },
  {
   "cell_type": "markdown",
   "id": "24c54c4f-7e0c-40b7-a9ca-a2a157b49c98",
   "metadata": {
    "tags": []
   },
   "source": [
    "TODO:\n",
    "* Create a post with instructions\n",
    "* Create a Madlib that fit the format described in the post\n",
    "    - Ideal: Create mulitple Madlibs\n",
    "* Loop through comments on the post and check for correct delimiters and number of words\n",
    "    - Ideal: Check for correct type (noun, adj, verb)\n",
    "* Reply to comment with filled out madlib\n",
    "    - Ideal: different madlib for each person"
   ]
  },
  {
   "cell_type": "code",
   "execution_count": 9,
   "id": "299c0fa3-590e-4e1b-aa42-7e484f299db1",
   "metadata": {},
   "outputs": [],
   "source": [
    "## INIT AND POST ##\n",
    "\n",
    "import praw\n",
    "# %run fake_apis/fake_praw.ipynb\n",
    "\n",
    "# Where we can store madlib text\n",
    "import madlibs_src\n",
    "\n",
    "import reddit_keys\n",
    "\n",
    "# Give praw access to post\n",
    "reddit = praw.Reddit(\n",
    "    username=reddit_keys.username, password=reddit_keys.password,\n",
    "    client_id=reddit_keys.client_id, client_secret=reddit_keys.client_secret,\n",
    "    user_agent=\"custom python script\"\n",
    ")\n",
    "\n",
    "# Creates initial post asking for madlibs input\n",
    "# Saves submission id\n",
    "madId = reddit.subreddit(\n",
    "   \"epperannbottestsub\"\n",
    ").submit(\n",
    "    # TODO: Add instructions\n",
    "    \"Hello! Let's make some Madlibs!\",\n",
    "    selftext = \"Reply to this post with your submission in the format: \"\n",
    ").id\n"
   ]
  },
  {
   "cell_type": "code",
   "execution_count": 10,
   "id": "9de8a1cf-5be9-4fc3-81b5-1bea510c24fc",
   "metadata": {},
   "outputs": [],
   "source": [
    "## COMMENT PARSING ##\n",
    "\n",
    "# Read through comments\n",
    "def get_comments(postId, show_hidden=False):\n",
    "    \n",
    "    submission = reddit.submission(postId)\n",
    "    submission.comment_sort = \"new\"\n",
    "    submission.comments.replace_more()\n",
    "    comments = submission.comments\n",
    "    \n",
    "    for comment in comments:\n",
    "        # Placeholder for reading comments\n",
    "        # Add old comment ids to list and check if each id is in list\n",
    "        display(comment.body)\n",
    "        \n",
    "get_comments(madId)\n",
    "\n"
   ]
  },
  {
   "cell_type": "code",
   "execution_count": null,
   "id": "655950f3-e3e5-4492-aae0-1a7d0db8824f",
   "metadata": {},
   "outputs": [],
   "source": []
  }
 ],
 "metadata": {
  "kernelspec": {
   "display_name": "Python 3 (ipykernel)",
   "language": "python",
   "name": "python3"
  },
  "language_info": {
   "codemirror_mode": {
    "name": "ipython",
    "version": 3
   },
   "file_extension": ".py",
   "mimetype": "text/x-python",
   "name": "python",
   "nbconvert_exporter": "python",
   "pygments_lexer": "ipython3",
   "version": "3.9.7"
  }
 },
 "nbformat": 4,
 "nbformat_minor": 5
}
