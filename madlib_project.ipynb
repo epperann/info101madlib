{
 "cells": [
  {
   "cell_type": "markdown",
   "id": "975842a7-18d1-4a11-b8f9-607169bbdbdc",
   "metadata": {
    "tags": []
   },
   "source": [
    "# Info 101 Final Project: Madlibs\n",
    "\n",
    "### Group AB-5: Annika Epperly and Trevor Wong"
   ]
  },
  {
   "cell_type": "markdown",
   "id": "4c0c7657-ba22-46f1-bea6-6502668a0657",
   "metadata": {
    "tags": []
   },
   "source": [
    "### Description:\n",
    "\n",
    "Our bot is designed to prompt user input and then respond to that input in order to create a variety of Madlibs. The first part of our code creates a post on a subreddit that asks redditors to comment their responses to a randomly selected Madlibs outline. Then, our code can repeatedly parse through unread comments and check to see if the comment submissions match the desired format to fill in the Madlibs. If they don't, the bot responds with an error message. But if they do, the bot takes their answers and replies to their comment with the completed Madlibs story.\n",
    "\n",
    "After initializing the connection to reddit, the code block labeled \"POST\" can be run manually to create a Madlibs post from a set of randomly chosen Madlibs prompts. After that has been run, the code block labeled \"COMMENT PARSING\" can be repeatedly run to check for and respond to comments on the post created by the most recent run of the \"POST\" code block. \n",
    "\n",
    "### Code:"
   ]
  },
  {
   "cell_type": "code",
   "execution_count": 1,
   "id": "299c0fa3-590e-4e1b-aa42-7e484f299db1",
   "metadata": {},
   "outputs": [
    {
     "name": "stderr",
     "output_type": "stream",
     "text": [
      "Version 7.6.1 of praw is outdated. Version 7.7.0 was released Saturday February 25, 2023.\n"
     ]
    }
   ],
   "source": [
    "## INIT ##\n",
    "\n",
    "import random\n",
    "import praw\n",
    "import reddit_keys\n",
    "\n",
    "# Give praw access to post\n",
    "reddit = praw.Reddit(\n",
    "    username=reddit_keys.username, password=reddit_keys.password,\n",
    "    client_id=reddit_keys.client_id, client_secret=reddit_keys.client_secret,\n",
    "    user_agent=\"custom python script\"\n",
    ")"
   ]
  },
  {
   "cell_type": "code",
   "execution_count": 8,
   "id": "9de8a1cf-5be9-4fc3-81b5-1bea510c24fc",
   "metadata": {},
   "outputs": [],
   "source": [
    "## POST ##\n",
    "\n",
    "# Lists out possible madlib stories to be selected later\n",
    "madlib_list = [\n",
    "    [\"Recently the [INPUT] store sold out on the [INPUT] [INPUT] that could [INPUT]. \\\n",
    "So [INPUT] checked out the [INPUT] store across the street and found [INPUT] \\\n",
    "[INPUT] [INPUT] -- which was pretty cool.\",\n",
    "     \"Noun/Adjective/Noun/Verb/Name/Adjective/Number/Adjective/Noun\"],\n",
    "    \n",
    "    [\"Social media has become very [INPUT] overnight. There have been reports of \\\n",
    "users using their platforms to [INPUT] which has created various [INPUT] \\\n",
    "issues. It seems that every [INPUT] has been replaced with [INPUT] which has gained \\\n",
    "a lot of [INPUT] attention and intrigued social media users.\",\n",
    "     \"Adjective/Verb/Adjective/Noun/Noun/Adjective\"],\n",
    "    \n",
    "    [\"Many [INPUT] majors are very [INPUT], but there are some who do not fall \\\n",
    "under this classification as easily or maybe they fall under it too well. The \\\n",
    "students in the major get along very well with [INPUT] [INPUT] majors since \\\n",
    "they [INPUT] with them frequently. This defies some conceptions about the \\\n",
    "two kinds of students though since [INPUT] majors work with [INPUT] -- \\\n",
    "something that [INPUT] students do not [INPUT] well with.\",\n",
    "     \"Major1/Adjective/Adjective/Major2/Verb-with-ing/Major1/Proper-noun/Major2/Verb\"],\n",
    "    \n",
    "    [\"My favorite social media site is [INPUT] because it has lots of [INPUT]. \\\n",
    "I spend [INPUT] hour(s) a day on it just [INPUT] and [INPUT]. My \\\n",
    "favorite account to follow is the one for [INPUT], it has [INPUT] followers.\\\n",
    "My least favorite social media site is [INPUT] because it is [INPUT].\",\n",
    "     \"Social-media/Plural-Noun/Number/Verb-with-ing/Verb-with-ing/Proper-Noun/Number/Social-media/Adjective\"],\n",
    "    \n",
    "    [\"On [INPUT] winter days like today, I like to [INPUT] with some [INPUT] [INPUT] \\\n",
    "instead of going outside. If I do have to go outside, I put on my [INPUT] [INPUT] and \\\n",
    "keep myself warm by [INPUT].\",\n",
    "    \"Adjective/Verb/Adjective/Plural-Noun/Adjective/Clothing-Item/Verb-With-ing\"]\n",
    "    ]\n",
    "\n",
    "# Establishes the current madlib that will be used in the comment\n",
    "current_madlib = random.choice(madlib_list)\n",
    "\n",
    "# Creates initial post asking for madlibs input\n",
    "madId = reddit.subreddit(\n",
    "   \"epperannbottestsub\"\n",
    ").submit(\n",
    "    # Greeting -- initial comment\n",
    "    \"Hello! Let's make some Madlibs!\",\n",
    "    \n",
    "    # Establishment of format and steps to submit\n",
    "    selftext = \"Reply to this post with your submission in the format:\\n\\n'\" +\n",
    "    current_madlib[1] +\n",
    "    \"'\\n\\nPlease separate each word with '/' and leave no space between!\"\n",
    ").id\n",
    "\n",
    "# List to store ids of comments that have already been seen\n",
    "comment_ids = []"
   ]
  },
  {
   "cell_type": "code",
   "execution_count": 5,
   "id": "655950f3-e3e5-4492-aae0-1a7d0db8824f",
   "metadata": {},
   "outputs": [],
   "source": [
    "## COMMENT PARSING ##\n",
    "\n",
    "# Read through comments for the current post\n",
    "def get_comments(postId, show_hidden=False):\n",
    "    \n",
    "    submission = reddit.submission(postId)\n",
    "    submission.comment_sort = \"new\"\n",
    "    submission.comments.replace_more()\n",
    "    comments = submission.comments\n",
    "    \n",
    "    for comment in comments:\n",
    "        \n",
    "        # Finds and processes unread comments\n",
    "        if comment not in comment_ids:\n",
    "            final_madlib = current_madlib[0]\n",
    "            comment_input = comment.body\n",
    "            madlib_input = comment_input.split(\"/\")\n",
    "            \n",
    "            # Ensures the length requirement is met and replies appropriately\n",
    "            if len(madlib_input) < len(current_madlib[1].split(\"/\")):\n",
    "                comment.reply(\"Too few words were inputted. Please comment again with the correct amount\")\n",
    "            elif len(madlib_input) > len(current_madlib[1].split(\"/\")):\n",
    "                comment.reply(\"Too many words were inputted. Please comment again with the correct amount\")\n",
    "            else:\n",
    "                # Create a madlib using madlib_input\n",
    "                for word in madlib_input:\n",
    "                    final_madlib = final_madlib.replace(\"[INPUT]\", word, 1)\n",
    "                comment.reply(final_madlib)\n",
    "            \n",
    "            # Adds comment to list of previously checked comments\n",
    "            comment_ids.append(comment)     \n",
    "\n",
    "# Finds and replies to all the new comments\n",
    "get_comments(madId)"
   ]
  },
  {
   "cell_type": "markdown",
   "id": "5cf7df58-c730-4c19-a753-c5a1c5a24d4f",
   "metadata": {
    "tags": []
   },
   "source": [
    "### Reflection\n",
    "1. How easily could this bot be abused or corrupted in order to cause harm?\n",
    "    \n",
    "    This bot could be corrupted fairly easily as it creates a story using user input so theres no limit to what could be added to the madlib story. However, **Taoism** applies to this issue as trolls who may try to force corruption on the bot may get a completely opposite result where the story becomes completely different to what they expected and the corruption they intended to get from the bot turns into an incomprehensible story.\n",
    "    \n",
    "    Another ethics framework that is applicable to the corruption of this bot is **Consequentialism**: where actions are judged on the sum total of their consequences. Input from trolls may seem horrible when commented to the bot initially, but when the story is created and the words have the possibility to not work well together, it defeats the purpose of the corruption and it creates a random result that even the troll may be satisfied with since it’s senseless. The final madlib is not about being morally correct or correct in general, it is meant for the users to find enjoyment in and mess around with.\n",
    "\n",
    "2. How much moderation should be implemented for the bot to function in a positive manner?\n",
    "    \n",
    "    The question of moderation can best be answered with **American Indigenous Ethics** – an ethics that is a wide family of different views, but more particularly Anti-hierarchy which states that no one should be fully dependent or independent. The bot should not be heavily moderated or else that defeats the purpose of the reddit madlib program which was created for users to play with (not have someone write a madlib for them). At the same time, the bot should have some moderation to run properly and ensure that it is not burning down without anyone knowing, so we have it so the bot can run when the comment searching line in the code is run.\n",
    "    \n",
    "    **Nihilism** also answers the question adequately since it believes that there is no right or wrong and that nothing matters. In relation to the bot, we made the bot for the purpose for people to create silly stories or stories that make no sense but since users have participation in the story it makes it have more meaning. The reddit madlib bot was never meant to be something that changes our society or something that destroys it – the meaning and purpose of the bot is that there is no real meaning and purpose.\n",
    "\n",
    "3. Does the potential for harm outweigh the potential for positive interactions with this bot?\n",
    "\n",
    "    If we examine this question from the lens of **Ubuntu**, we can see that this bot has great potential for being morally right due to its ability to foster positive communal interactions among Reddit users. People can post this bot and allow others to interact with it in order to bring joy to Reddit communities through funny stories, suggesting that those positive interactions are more worthwhile than any harm it could cause.\n",
    "    \n",
    "    Furthermore, the use of **Deontology** to consider this question suggests that we could decide that creating an outlet for joyful, positive interactions is always the more morally correct thing to do instead of depriving people of those opportunties. In establishing that moral duty, the potential negative consequences of improper use of our bot don't need to be considered./n"
   ]
  }
 ],
 "metadata": {
  "kernelspec": {
   "display_name": "Python 3 (ipykernel)",
   "language": "python",
   "name": "python3"
  },
  "language_info": {
   "codemirror_mode": {
    "name": "ipython",
    "version": 3
   },
   "file_extension": ".py",
   "mimetype": "text/x-python",
   "name": "python",
   "nbconvert_exporter": "python",
   "pygments_lexer": "ipython3",
   "version": "3.9.7"
  }
 },
 "nbformat": 4,
 "nbformat_minor": 5
}
